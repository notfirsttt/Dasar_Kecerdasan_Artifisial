{
  "nbformat": 4,
  "nbformat_minor": 0,
  "metadata": {
    "colab": {
      "provenance": [],
      "include_colab_link": true
    },
    "kernelspec": {
      "name": "python3",
      "display_name": "Python 3"
    },
    "language_info": {
      "name": "python"
    }
  },
  "cells": [
    {
      "cell_type": "markdown",
      "metadata": {
        "id": "view-in-github",
        "colab_type": "text"
      },
      "source": [
        "<a href=\"https://colab.research.google.com/github/notfirsttt/Dasar_Kecerdasan_Artifisial/blob/main/Modul_8_DKA.ipynb\" target=\"_parent\"><img src=\"https://colab.research.google.com/assets/colab-badge.svg\" alt=\"Open In Colab\"/></a>"
      ]
    },
    {
      "cell_type": "code",
      "execution_count": null,
      "metadata": {
        "colab": {
          "base_uri": "https://localhost:8080/"
        },
        "id": "JQTRquuh05MI",
        "outputId": "acbc83ef-bea1-4515-f6d4-a312ddf58f5f"
      },
      "outputs": [
        {
          "output_type": "stream",
          "name": "stdout",
          "text": [
            "Solusi terbaik (urutan kota): [0, 1, 5, 2, 6, 7, 3, 4]\n",
            "Total jarak terbaik: 24.122094492753842\n"
          ]
        }
      ],
      "source": [
        "# Import library yang digunakan\n",
        "import random\n",
        "import math\n",
        "\n",
        "# Menghitung jarak 2 titik dengan rumus Euclidean\n",
        "def distance(city1, city2):\n",
        "    return math.sqrt((city1[0] - city2[0]) ** 2 + (city1[1] - city2[1]) ** 2)\n",
        "\n",
        "# Menghitung total jarak dari rute tour\n",
        "def total_distance(tour, cities):\n",
        "    dist = 0\n",
        "    for i in range(len(tour)):\n",
        "        dist += distance(cities[tour[i]], cities[tour[(i + 1) % len(tour)]])\n",
        "    return dist\n",
        "\n",
        "# Menghasilkan semua tetangga dari tour dengan menukar 2 titik\n",
        "def get_neighbors(tour):\n",
        "    neighbors = []\n",
        "    for i in range(len(tour)):\n",
        "        for j in range(i + 1, len(tour)):\n",
        "            neighbor = tour[:]\n",
        "            neighbor[i], neighbor[j] = neighbor[j], neighbor[i]\n",
        "            neighbors.append(neighbor)\n",
        "    return neighbors\n",
        "\n",
        "# Deklarasi titik-titik kota dalam bentuk koordinat (x, y)\n",
        "cities = [\n",
        "    (0, 0), (1, 3), (4, 3), (6, 1),\n",
        "    (3, 0), (2, 2), (5, 5), (7, 7)\n",
        "]\n",
        "\n",
        "# Membuat rute awal secara acak\n",
        "current_solution = list(range(len(cities)))\n",
        "random.shuffle(current_solution)\n",
        "\n",
        "# Menghitung total jarak dari rute awal\n",
        "current_distance = total_distance(current_solution, cities)\n",
        "\n",
        "# Algoritma Hill Climbing\n",
        "while True:\n",
        "    # Mendapatkan seluruh tetangga dari solusi saat ini\n",
        "    neighbors = get_neighbors(current_solution)\n",
        "\n",
        "    # Mencari tetangga dengan total jarak terkecil\n",
        "    best_neighbor = min(neighbors, key=lambda tour: total_distance(tour, cities))\n",
        "    best_distance = total_distance(best_neighbor, cities)\n",
        "\n",
        "    # Jika tidak ada solusi yang lebih baik, keluar dari loop\n",
        "    if best_distance >= current_distance:\n",
        "        break\n",
        "\n",
        "    # Update solusi saat ini\n",
        "    current_solution = best_neighbor\n",
        "    current_distance = best_distance\n",
        "\n",
        "# Menampilkan hasil akhir\n",
        "print(\"Solusi terbaik (urutan kota):\", current_solution)\n",
        "print(\"Total jarak terbaik:\", current_distance)"
      ]
    }
  ]
}