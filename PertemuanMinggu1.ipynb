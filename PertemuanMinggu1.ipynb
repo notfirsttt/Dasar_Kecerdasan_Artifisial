{
  "nbformat": 4,
  "nbformat_minor": 0,
  "metadata": {
    "colab": {
      "provenance": [],
      "include_colab_link": true
    },
    "kernelspec": {
      "name": "python3",
      "display_name": "Python 3"
    },
    "language_info": {
      "name": "python"
    }
  },
  "cells": [
    {
      "cell_type": "markdown",
      "metadata": {
        "id": "view-in-github",
        "colab_type": "text"
      },
      "source": [
        "<a href=\"https://colab.research.google.com/github/notfirsttt/Dasar_Kecerdasan_Artifisial/blob/main/PertemuanMinggu1.ipynb\" target=\"_parent\"><img src=\"https://colab.research.google.com/assets/colab-badge.svg\" alt=\"Open In Colab\"/></a>"
      ]
    },
    {
      "cell_type": "markdown",
      "source": [
        "##Guided 1"
      ],
      "metadata": {
        "id": "JgBWwl4AJ5-9"
      }
    },
    {
      "cell_type": "code",
      "source": [
        "print (\"hallo word\")"
      ],
      "metadata": {
        "colab": {
          "base_uri": "https://localhost:8080/"
        },
        "id": "hTNOd7z6J9Wv",
        "outputId": "76f2f825-c8e6-4f9e-d850-8dcfa245c36b"
      },
      "execution_count": null,
      "outputs": [
        {
          "output_type": "stream",
          "name": "stdout",
          "text": [
            "hallo word\n"
          ]
        }
      ]
    },
    {
      "cell_type": "markdown",
      "source": [
        "Program di atas mencetak teks \"hallo word\" ke layar menggunakan fungsi print()."
      ],
      "metadata": {
        "id": "842YKh4Hr5aN"
      }
    },
    {
      "cell_type": "markdown",
      "source": [
        "##Guided 2"
      ],
      "metadata": {
        "id": "uJDsYDDXJ5Wz"
      }
    },
    {
      "cell_type": "code",
      "source": [
        "kalimat = \"halo semuanya!\"\n",
        "print(kalimat)"
      ],
      "metadata": {
        "colab": {
          "base_uri": "https://localhost:8080/"
        },
        "id": "nO3E5jDNKAEu",
        "outputId": "a059f917-52dd-4841-ac91-a27b10b609cf"
      },
      "execution_count": null,
      "outputs": [
        {
          "output_type": "stream",
          "name": "stdout",
          "text": [
            "halo semuanya!\n"
          ]
        }
      ]
    },
    {
      "cell_type": "markdown",
      "source": [
        "Program di atas menyimpan teks \"hallo semuanya!\" dalam variabel kalimat lalu mencetaknya ke layar menggunakan print()."
      ],
      "metadata": {
        "id": "UMVjMZ2tsgeD"
      }
    },
    {
      "cell_type": "markdown",
      "source": [
        "##Guided 3"
      ],
      "metadata": {
        "id": "ItNv6g_8KF0Q"
      }
    },
    {
      "cell_type": "code",
      "source": [
        "str = \"ALF\"\n",
        "first_char = str[0]\n",
        "last_char = str [-1]\n",
        "print(first_char, last_char)"
      ],
      "metadata": {
        "colab": {
          "base_uri": "https://localhost:8080/"
        },
        "id": "oipFiTLnKHe8",
        "outputId": "8c8b39b7-a85c-4c45-c9f1-645b6a2e64ed"
      },
      "execution_count": null,
      "outputs": [
        {
          "output_type": "stream",
          "name": "stdout",
          "text": [
            "A F\n"
          ]
        }
      ]
    },
    {
      "cell_type": "markdown",
      "source": [
        "Kode ini mengekstrak karakter pertama dan terakhir dari string yang disimpan dalam variabel str, kemudian menampilkannya."
      ],
      "metadata": {
        "id": "AyQHMXE2tiL6"
      }
    },
    {
      "cell_type": "markdown",
      "source": [
        "##Guided 4"
      ],
      "metadata": {
        "id": "85-MW5H1KKY3"
      }
    },
    {
      "cell_type": "code",
      "source": [
        "list_kata = [\"belajar\", \" kecerdasan\", \"artifisial\"]\n",
        "print(list_kata)"
      ],
      "metadata": {
        "colab": {
          "base_uri": "https://localhost:8080/"
        },
        "id": "-z4WqEiQKMrr",
        "outputId": "bfa86fe4-219f-4656-bada-668c8c5c1302"
      },
      "execution_count": null,
      "outputs": [
        {
          "output_type": "stream",
          "name": "stdout",
          "text": [
            "['belajar', ' kecerdasan', 'artifisial']\n"
          ]
        }
      ]
    },
    {
      "cell_type": "markdown",
      "source": [
        "Kode ini mendefinisikan sebuah list yang berisi kata-kata dan menampilkannya dalam format list saat dijalankan."
      ],
      "metadata": {
        "id": "a92J8CQ6uA6n"
      }
    },
    {
      "cell_type": "markdown",
      "source": [
        "##Guided 5"
      ],
      "metadata": {
        "id": "T5Qz17FeKRoR"
      }
    },
    {
      "cell_type": "code",
      "source": [
        "even_nums = [x for x in range(10) if x % 2 == 0]\n",
        "print(even_nums)"
      ],
      "metadata": {
        "colab": {
          "base_uri": "https://localhost:8080/"
        },
        "id": "ILipNP6IKTg1",
        "outputId": "ce9dd0d3-1cdf-461c-a6b9-82a26e139aee"
      },
      "execution_count": null,
      "outputs": [
        {
          "output_type": "stream",
          "name": "stdout",
          "text": [
            "[0, 2, 4, 6, 8]\n"
          ]
        }
      ]
    },
    {
      "cell_type": "markdown",
      "source": [
        "Program di atas membuat list berisi bilangan genap dari 0 hingga 9 menggunakan list comprehension, lalu mencetaknya."
      ],
      "metadata": {
        "id": "_c5ykPzjunRg"
      }
    },
    {
      "cell_type": "markdown",
      "source": [
        "##Guided 6"
      ],
      "metadata": {
        "id": "Z5LF-lHuKYbA"
      }
    },
    {
      "cell_type": "code",
      "source": [
        "my_dict = {\n",
        "    \"nama\" : \"alfi\",\n",
        "    \"umur\" : \"17\",\n",
        "    \"asal\" : \"bandung\",\n",
        "    \"hoby\" : \"volly\"\n",
        "}\n",
        "print(my_dict)\n",
        "\n",
        "#menambah Item baru\n",
        "my_dict[\"negara\"] = \"indonesia\"\n",
        "print(\"Setelah menambah data negara\")\n",
        "print(my_dict)\n",
        "\n",
        "#menghapus item\n",
        "del my_dict[\"umur\"]\n",
        "print(\"Setelah menghapus data umur\")\n",
        "print(my_dict)"
      ],
      "metadata": {
        "colab": {
          "base_uri": "https://localhost:8080/"
        },
        "id": "CWh0Zb3aKfY6",
        "outputId": "19fd0b33-882e-41f2-8f94-50720d309de3"
      },
      "execution_count": null,
      "outputs": [
        {
          "output_type": "stream",
          "name": "stdout",
          "text": [
            "{'nama': 'alfi', 'umur': '17', 'asal': 'bandung', 'hoby': 'volly'}\n",
            "Setelah menambah data negara\n",
            "{'nama': 'alfi', 'umur': '17', 'asal': 'bandung', 'hoby': 'volly', 'negara': 'indonesia'}\n",
            "Setelah menghapus data umur\n",
            "{'nama': 'alfi', 'asal': 'bandung', 'hoby': 'volly', 'negara': 'indonesia'}\n"
          ]
        }
      ]
    },
    {
      "cell_type": "markdown",
      "source": [
        "Program di atas membuat dictionary my_dict untuk menyimpan data identitas, kemudian menambah item baru dengan kunci \"negara\", menghapus item dengan kunci \"umur\", dan mencetak hasil perubahan setelah setiap operasi."
      ],
      "metadata": {
        "id": "H3etN6Vfv5Hu"
      }
    },
    {
      "cell_type": "markdown",
      "source": [],
      "metadata": {
        "id": "lb3Wk0uuv43a"
      }
    },
    {
      "cell_type": "markdown",
      "source": [
        "##Guided 7"
      ],
      "metadata": {
        "id": "lr94_Ki2KabW"
      }
    },
    {
      "cell_type": "code",
      "source": [
        "my_set = set()\n",
        "\n",
        "#membuat set dengan beberapa elemen\n",
        "my_set = {1, 2, \"manggo\", 4, 5.12}\n",
        "print(my_set)\n",
        "\n",
        "#menambahkan elemen ke set\n",
        "my_set.add(\"banana\")\n",
        "print(my_set)\n",
        "\n",
        "#menghapus elemen\n",
        "my_set.remove(\"manggo\")\n",
        "my_set.remove(5.12)\n",
        "print(my_set)"
      ],
      "metadata": {
        "colab": {
          "base_uri": "https://localhost:8080/"
        },
        "id": "wRnhocbPKpuZ",
        "outputId": "9453c10a-430f-46c5-f4c3-fddce11eb999"
      },
      "execution_count": null,
      "outputs": [
        {
          "output_type": "stream",
          "name": "stdout",
          "text": [
            "{1, 2, 4, 5.12, 'manggo'}\n",
            "{1, 2, 4, 5.12, 'banana', 'manggo'}\n",
            "{1, 2, 4, 'banana'}\n"
          ]
        }
      ]
    },
    {
      "cell_type": "markdown",
      "source": [
        "Kode ini mendemonstrasikan cara kerja set, termasuk penambahan dan penghapusan elemen. Set berguna untuk menyimpan data unik dan melakukan operasi himpunan dengan efisien."
      ],
      "metadata": {
        "id": "yRye_p_vyX0l"
      }
    },
    {
      "cell_type": "markdown",
      "source": [
        "##Guided 8"
      ],
      "metadata": {
        "id": "DMLcHo_8Kb1o"
      }
    },
    {
      "cell_type": "code",
      "source": [
        "is_adaclass = True\n",
        "\n",
        "if is_adaclass:\n",
        "  print(\"Bawa Laptop\")\n",
        "else:\n",
        "  print(\"Tidak bawa Laptop\")"
      ],
      "metadata": {
        "colab": {
          "base_uri": "https://localhost:8080/"
        },
        "id": "kLR5RZbJLRGR",
        "outputId": "e35002bb-fb36-47e9-a785-6180491bcbf3"
      },
      "execution_count": null,
      "outputs": [
        {
          "output_type": "stream",
          "name": "stdout",
          "text": [
            "Bawa Laptop\n"
          ]
        }
      ]
    },
    {
      "cell_type": "markdown",
      "source": [
        "Kode ini menggunakan pernyataan if-else untuk menentukan output berdasarkan kondisi is_adaclass."
      ],
      "metadata": {
        "id": "nH3e_2g0y2g7"
      }
    },
    {
      "cell_type": "markdown",
      "source": [
        "##Guided 9"
      ],
      "metadata": {
        "id": "zCNU3829KdlB"
      }
    },
    {
      "cell_type": "code",
      "source": [
        "umur = input(\"Masukkan umur kamu: \")\n",
        "print(\"Umur kamu adalah\", umur)"
      ],
      "metadata": {
        "colab": {
          "base_uri": "https://localhost:8080/"
        },
        "id": "RJcr08AcLXGq",
        "outputId": "bc0bf894-45b8-4795-de34-da83b850f305"
      },
      "execution_count": null,
      "outputs": [
        {
          "output_type": "stream",
          "name": "stdout",
          "text": [
            "Masukkan umur kamu: 17\n",
            "Umur kamu adalah 17\n"
          ]
        }
      ]
    },
    {
      "cell_type": "markdown",
      "source": [
        "Kode ini membaca input dari pengguna, menyimpannya dalam variabel umur, dan menampilkannya di layar."
      ],
      "metadata": {
        "id": "09Pbgkj-zTUK"
      }
    },
    {
      "cell_type": "markdown",
      "source": [
        "##Guided 10"
      ],
      "metadata": {
        "id": "9SuVRDDnM3qE"
      }
    },
    {
      "cell_type": "code",
      "source": [
        "add = lambda x, y: x + y\n",
        "print(add(8, 5))"
      ],
      "metadata": {
        "colab": {
          "base_uri": "https://localhost:8080/"
        },
        "id": "Wnho6aPhM5M5",
        "outputId": "637e79ab-846a-4d81-b67a-6cf23e2543af"
      },
      "execution_count": null,
      "outputs": [
        {
          "output_type": "stream",
          "name": "stdout",
          "text": [
            "13\n"
          ]
        }
      ]
    },
    {
      "cell_type": "markdown",
      "source": [
        "Kode ini menggunakan lambda function untuk menjumlahkan dua nilai secara ringkas, menghasilkan output 13."
      ],
      "metadata": {
        "id": "Yrm1mj25z5wW"
      }
    },
    {
      "cell_type": "markdown",
      "source": [
        "##Unguded 1\n"
      ],
      "metadata": {
        "id": "KrX7aoKf203E"
      }
    },
    {
      "cell_type": "code",
      "source": [
        "def isKabisat(tahun):\n",
        "    return (tahun % 4 == 0 and tahun % 100 != 0) or (tahun % 400 == 0)\n",
        "\n",
        "tahun = 2023\n",
        "print(isKabisat(tahun))\n"
      ],
      "metadata": {
        "colab": {
          "base_uri": "https://localhost:8080/"
        },
        "id": "6HfpKzcV25_R",
        "outputId": "3ca25419-fc31-46cc-d9fa-13f830fc7be9"
      },
      "execution_count": null,
      "outputs": [
        {
          "output_type": "stream",
          "name": "stdout",
          "text": [
            "False\n"
          ]
        }
      ]
    },
    {
      "cell_type": "markdown",
      "source": [
        "Fungsi isKabisat menggunakan ekspresi logika langsung tanpa if-else. Mengembalikan True atau False sesuai dengan aturan tahun kabisat."
      ],
      "metadata": {
        "id": "1zWv0e4P5MFl"
      }
    },
    {
      "cell_type": "markdown",
      "source": [
        "##Unguided 2"
      ],
      "metadata": {
        "id": "9Ga4g4B737P9"
      }
    },
    {
      "cell_type": "code",
      "source": [
        "def fibonacci(n):\n",
        "    a, b = 0, 1\n",
        "    for _ in range(n):\n",
        "        a, b = b, a + b\n",
        "    return a\n",
        "\n",
        "def cetak_fibonacci(n):\n",
        "    a, b = 0, 1\n",
        "    for _ in range(n):\n",
        "        print(a, end=\" \")\n",
        "        a, b = b, a + b\n",
        "    print()\n",
        "\n",
        "print(fibonacci(7))\n",
        "cetak_fibonacci(7)\n"
      ],
      "metadata": {
        "colab": {
          "base_uri": "https://localhost:8080/"
        },
        "id": "L7al0DjG3-j_",
        "outputId": "ad41e6b8-7d9c-4e92-8d49-771a7bd9a2b1"
      },
      "execution_count": null,
      "outputs": [
        {
          "output_type": "stream",
          "name": "stdout",
          "text": [
            "13\n",
            "0 1 1 2 3 5 8 \n"
          ]
        }
      ]
    },
    {
      "cell_type": "markdown",
      "source": [
        "Fungsi fibonacci menghitung Fibonacci ke-n menggunakan perulangan. Prosedur cetak_fibonacci mencetak bilangan Fibonacci dengan metode iteratif."
      ],
      "metadata": {
        "id": "0OlG-CZV5os8"
      }
    }
  ]
}