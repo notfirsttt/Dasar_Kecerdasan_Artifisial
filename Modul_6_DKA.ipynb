{
  "nbformat": 4,
  "nbformat_minor": 0,
  "metadata": {
    "colab": {
      "provenance": [],
      "include_colab_link": true
    },
    "kernelspec": {
      "name": "python3",
      "display_name": "Python 3"
    },
    "language_info": {
      "name": "python"
    }
  },
  "cells": [
    {
      "cell_type": "markdown",
      "metadata": {
        "id": "view-in-github",
        "colab_type": "text"
      },
      "source": [
        "<a href=\"https://colab.research.google.com/github/notfirsttt/Dasar_Kecerdasan_Artifisial/blob/main/Modul_6_DKA.ipynb\" target=\"_parent\"><img src=\"https://colab.research.google.com/assets/colab-badge.svg\" alt=\"Open In Colab\"/></a>"
      ]
    },
    {
      "cell_type": "markdown",
      "source": [
        "## Guided 1"
      ],
      "metadata": {
        "id": "4G4TRq93C4vG"
      }
    },
    {
      "cell_type": "code",
      "source": [
        "import networkx as nx  # untuk membuat grafik\n",
        "import matplotlib.pyplot as plt  # untuk plot graf"
      ],
      "metadata": {
        "id": "BhNxvQeqCr4r"
      },
      "execution_count": null,
      "outputs": []
    },
    {
      "cell_type": "code",
      "execution_count": null,
      "metadata": {
        "id": "6c3aUrsnAZgp"
      },
      "outputs": [],
      "source": [
        "# Fungsi pendukung untuk mencetak graf\n",
        "def show_graph(G, pos=None, title=''):\n",
        "    # Membuat pos jika pos tidak diberikan\n",
        "    if pos is None:\n",
        "        pos = nx.spring_layout(G)\n",
        "\n",
        "    # Fungsi untuk menggambar node\n",
        "    nx.draw(\n",
        "        G,  # Graf NetworkX\n",
        "        pos,  # Posisi node\n",
        "        with_labels=True,  # Menampilkan nama node\n",
        "        node_color='red',  # Warna node\n",
        "        node_size=2000,  # Ukuran node\n",
        "        font_color=\"white\",  # Warna font label node\n",
        "        font_weight=\"bold\",  # Ketebalan font label node\n",
        "        width=5  # Ketebalan garis edge\n",
        "    )\n",
        "\n",
        "    # Mengambil label edge jika ada weight\n",
        "    edge_labels = nx.get_edge_attributes(G, 'weight')\n",
        "\n",
        "    # Fungsi untuk menggambar label pada edge\n",
        "    nx.draw_networkx_edge_labels(\n",
        "        G,\n",
        "        pos,\n",
        "        edge_labels=edge_labels,  # Data weight\n",
        "        font_color='blue',  # Warna font label edge\n",
        "        font_weight=\"bold\",  # Berat font label edge\n",
        "        font_size=12,  # Ukuran font label edge\n",
        "    )\n",
        "\n",
        "    plt.margins(0.2)  # Memberikan margin pada plot\n",
        "    plt.title(title)  # Menampilkan judul\n",
        "    plt.show()"
      ]
    },
    {
      "cell_type": "code",
      "source": [
        "pos = {\n",
        " 'A': (0, 3),\n",
        " 'B': (-10, 2), 'C': (10, 2),\n",
        " 'D': (-15, 1), 'E': (-5, 1), 'F': (5, 1), 'G': (15, 1),\n",
        " 'H': (-18, 0), 'I': (-12, 0), 'J': (-8, 0), 'K': (-2, 0),\n",
        " 'L': (2, 0), 'M': (8, 0), 'N': (12, 0), 'O': (18, 0)\n",
        "}"
      ],
      "metadata": {
        "id": "c6kueiDiAtul"
      },
      "execution_count": null,
      "outputs": []
    },
    {
      "cell_type": "code",
      "source": [
        "# Inisialisasi graf kosong\n",
        "G = nx.Graph()"
      ],
      "metadata": {
        "id": "N5ac8uZ5AvQo"
      },
      "execution_count": null,
      "outputs": []
    },
    {
      "cell_type": "code",
      "source": [
        "# Definisi node dan edge sesuai dengan gambar\n",
        "edges = [\n",
        " ('A', 'B'), ('A', 'C'),\n",
        " ('B', 'D'), ('B', 'E'),\n",
        " ('C', 'F'), ('C', 'G'),\n",
        " ('D', 'H'), ('D', 'I'),\n",
        " ('E', 'J'), ('E', 'K'),\n",
        " ('F', 'L'), ('F', 'M'),\n",
        " ('G', 'N'), ('G', 'O')\n",
        "]\n",
        "# Menambahkan edge pada graf\n",
        "G.add_edges_from(edges)"
      ],
      "metadata": {
        "id": "-ws6ZJyuAwr9"
      },
      "execution_count": null,
      "outputs": []
    },
    {
      "cell_type": "code",
      "source": [
        "print(\"Elemen pada Graf:\")\n",
        "print(\"Daftar Node pada Graf:\", G.nodes())\n",
        "print(\"Daftar Edge pada Graf:\", G.edges())\n",
        "print(\"Jumlah Node pada Graf\", G.number_of_nodes())\n",
        "print(\"Jumlah Edge pada Graf\", G.number_of_edges())"
      ],
      "metadata": {
        "colab": {
          "base_uri": "https://localhost:8080/"
        },
        "id": "lYq_ZWpWAyZY",
        "outputId": "dd28d8be-1b11-4273-d803-9eeed6d39e80"
      },
      "execution_count": null,
      "outputs": [
        {
          "output_type": "stream",
          "name": "stdout",
          "text": [
            "Elemen pada Graf:\n",
            "Daftar Node pada Graf: ['A', 'B', 'C', 'D', 'E', 'F', 'G', 'H', 'I', 'J', 'K', 'L', 'M', 'N', 'O']\n",
            "Daftar Edge pada Graf: [('A', 'B'), ('A', 'C'), ('B', 'D'), ('B', 'E'), ('C', 'F'), ('C', 'G'), ('D', 'H'), ('D', 'I'), ('E', 'J'), ('E', 'K'), ('F', 'L'), ('F', 'M'), ('G', 'N'), ('G', 'O')]\n",
            "Jumlah Node pada Graf 15\n",
            "Jumlah Edge pada Graf 14\n"
          ]
        }
      ]
    },
    {
      "cell_type": "code",
      "source": [
        "# Mencetak graf\n",
        "show_graph(G, pos=pos)"
      ],
      "metadata": {
        "colab": {
          "base_uri": "https://localhost:8080/",
          "height": 516
        },
        "id": "osByeEx1A0A0",
        "outputId": "877fa4c2-c08f-49ff-eed5-0d60ac2624f9"
      },
      "execution_count": null,
      "outputs": [
        {
          "output_type": "display_data",
          "data": {
            "text/plain": [
              "<Figure size 640x480 with 1 Axes>"
            ],
            "image/png": "[encoded data removed]"
          },
          "metadata": {}
        }
      ]
    },
    {
      "cell_type": "code",
      "source": [
        "# Buat loop untuk urutan Depth First Search\n",
        "print(\"Urutan node yang dikunjungi:\")\n",
        "i = 1\n",
        "for nodes in nx.dfs_edges(G, source='A'):\n",
        "    print(f\"{i}. {nodes[0]} - {nodes[1]}\")\n",
        "    i += 1\n"
      ],
      "metadata": {
        "colab": {
          "base_uri": "https://localhost:8080/"
        },
        "id": "JcaC0Z_XA5DK",
        "outputId": "1c9c32a0-bfc5-4ee6-9bcb-a463a881800a"
      },
      "execution_count": null,
      "outputs": [
        {
          "output_type": "stream",
          "name": "stdout",
          "text": [
            "Urutan node yang dikunjungi:\n",
            "1. A - B\n",
            "2. B - D\n",
            "3. D - H\n",
            "4. D - I\n",
            "5. B - E\n",
            "6. E - J\n",
            "7. E - K\n",
            "8. A - C\n",
            "9. C - F\n",
            "10. F - L\n",
            "11. F - M\n",
            "12. C - G\n",
            "13. G - N\n",
            "14. G - O\n"
          ]
        }
      ]
    },
    {
      "cell_type": "code",
      "source": [
        "# Loop untuk urutan Depth First Search dengan depth 2\n",
        "print(\"Urutan node yang dikunjungi (maksimum depth 2):\")\n",
        "i = 1\n",
        "for nodes in nx.dfs_edges(G, source='A', depth_limit=2):\n",
        "    print(f\"{i}. {nodes[0]} - {nodes[1]}\")\n",
        "    i += 1"
      ],
      "metadata": {
        "colab": {
          "base_uri": "https://localhost:8080/"
        },
        "id": "ODwTFhGdA9Ut",
        "outputId": "c3ee19a3-31da-442d-b763-10a2dc5598f6"
      },
      "execution_count": null,
      "outputs": [
        {
          "output_type": "stream",
          "name": "stdout",
          "text": [
            "Urutan node yang dikunjungi (maksimum depth 2):\n",
            "1. A - B\n",
            "2. B - D\n",
            "3. B - E\n",
            "4. A - C\n",
            "5. C - F\n",
            "6. C - G\n"
          ]
        }
      ]
    },
    {
      "cell_type": "markdown",
      "source": [
        "## Guided 2"
      ],
      "metadata": {
        "id": "g_M0UiFTC2c8"
      }
    },
    {
      "cell_type": "code",
      "source": [
        "import networkx as nx  # untuk membuat grafik\n",
        "import matplotlib.pyplot as plt  # untuk plot graf"
      ],
      "metadata": {
        "id": "1JpyrmJaCv9d"
      },
      "execution_count": null,
      "outputs": []
    },
    {
      "cell_type": "code",
      "source": [
        "# Fungsi pendukung untuk mencetak graf\n",
        "def show_graph(G, pos=None, title='', labels={}):\n",
        "    # Membuat posisi otomatis jika tidak diberikan\n",
        "    if pos is None:\n",
        "        pos = nx.spring_layout(G)\n",
        "\n",
        "    # Menggambar node dan edge\n",
        "    nx.draw(\n",
        "        G,  # Graf NetworkX\n",
        "        pos,  # Posisi node\n",
        "        labels=labels,  # Label khusus node jika ada\n",
        "        with_labels=True,  # Menampilkan label node\n",
        "        node_color='red',  # Warna node\n",
        "        node_size=2000,  # Ukuran node\n",
        "        font_color='white',  # Warna font label node\n",
        "        font_weight='bold',  # Ketebalan font label\n",
        "        width=5  # Ketebalan garis edge\n",
        "    )\n",
        "\n",
        "    # Menggambar label edge jika ada atribut 'weight'\n",
        "    edge_labels = nx.get_edge_attributes(G, 'weight')\n",
        "    nx.draw_networkx_edge_labels(\n",
        "        G,\n",
        "        pos,\n",
        "        edge_labels=edge_labels,\n",
        "        font_color='blue',\n",
        "        font_weight='bold',\n",
        "        font_size=12\n",
        "    )\n",
        "\n",
        "    plt.margins(0.2)\n",
        "    plt.title(title)\n",
        "    plt.show()"
      ],
      "metadata": {
        "id": "mQ6SLR2iBDlA"
      },
      "execution_count": null,
      "outputs": []
    },
    {
      "cell_type": "code",
      "source": [
        "pos = {\n",
        "    'A': (0, 2),\n",
        "    'B': (1, 3),\n",
        "    'C': (1, 1),\n",
        "    'D': (2, 3.5),\n",
        "    'E': (2, 2.5),\n",
        "    'F': (2, 1.5)\n",
        "}"
      ],
      "metadata": {
        "id": "Nmo9uo2LBO2k"
      },
      "execution_count": null,
      "outputs": []
    },
    {
      "cell_type": "code",
      "source": [
        "# Inisialisasi graf berarah kosong\n",
        "G = nx.DiGraph()"
      ],
      "metadata": {
        "id": "kHqVSCeIBRRZ"
      },
      "execution_count": null,
      "outputs": []
    },
    {
      "cell_type": "code",
      "source": [
        "# Definisi node dan edge sesuai dengan gambar\n",
        "edges = [\n",
        "    ('A', 'B'), ('A', 'C'),\n",
        "    ('B', 'D'), ('B', 'E'),\n",
        "    ('C', 'E'), ('C', 'F'),\n",
        "    ('E', 'D'), ('E', 'F')\n",
        "]\n",
        "# Menambahkan edge pada graf\n",
        "G.add_edges_from(edges)"
      ],
      "metadata": {
        "id": "V6FRzrUyBSm8"
      },
      "execution_count": null,
      "outputs": []
    },
    {
      "cell_type": "code",
      "source": [
        "print(\"Elemen pada Graf:\")\n",
        "print(\"Daftar Node pada Graf:\", G.nodes())\n",
        "print(\"Daftar Edge pada Graf:\", G.edges())\n",
        "print(\"Jumlah Node pada Graf\", G.number_of_nodes())\n",
        "print(\"Jumlah Edge pada Graf\", G.number_of_edges())"
      ],
      "metadata": {
        "colab": {
          "base_uri": "https://localhost:8080/"
        },
        "id": "SLdL28v5BT3O",
        "outputId": "f4abd84a-96d9-454c-9141-95a11cc15b90"
      },
      "execution_count": null,
      "outputs": [
        {
          "output_type": "stream",
          "name": "stdout",
          "text": [
            "Elemen pada Graf:\n",
            "Daftar Node pada Graf: ['A', 'B', 'C', 'D', 'E', 'F']\n",
            "Daftar Edge pada Graf: [('A', 'B'), ('A', 'C'), ('B', 'D'), ('B', 'E'), ('C', 'E'), ('C', 'F'), ('E', 'D'), ('E', 'F')]\n",
            "Jumlah Node pada Graf 6\n",
            "Jumlah Edge pada Graf 8\n"
          ]
        }
      ]
    },
    {
      "cell_type": "code",
      "source": [
        "# Mencatat start dan goal node\n",
        "labels = {node: node for node in G.nodes()}\n",
        "labels['A'] = 'A\\nStart'\n",
        "labels['F'] = 'F\\nGoal'"
      ],
      "metadata": {
        "id": "PUIldCX_BVSf"
      },
      "execution_count": null,
      "outputs": []
    },
    {
      "cell_type": "code",
      "source": [
        "# Mencetak graf\n",
        "show_graph(G, pos=pos, labels=labels)"
      ],
      "metadata": {
        "colab": {
          "base_uri": "https://localhost:8080/",
          "height": 516
        },
        "id": "Swmg3hXWBW8a",
        "outputId": "4cefd16c-d45e-4c25-c443-6fbbc6e3795e"
      },
      "execution_count": null,
      "outputs": [
        {
          "output_type": "display_data",
          "data": {
            "text/plain": [
              "<Figure size 640x480 with 1 Axes>"
            ],
            "image/png": "[encoded data removed]"
          },
          "metadata": {}
        }
      ]
    },
    {
      "cell_type": "code",
      "source": [
        "# Buat loop untuk urutan Depth First Search\n",
        "print(\"Urutan node yang dikunjungi:\")\n",
        "i = 1\n",
        "for nodes in nx.dfs_edges(G, source='A'):\n",
        " print(f\"{i}. {nodes[0]} - {nodes[1]}\")\n",
        " i += 1"
      ],
      "metadata": {
        "colab": {
          "base_uri": "https://localhost:8080/"
        },
        "id": "I8Ejtq-wCmLm",
        "outputId": "3b807a36-2bb4-47ca-b023-2e87b5ac22cd"
      },
      "execution_count": null,
      "outputs": [
        {
          "output_type": "stream",
          "name": "stdout",
          "text": [
            "Urutan node yang dikunjungi:\n",
            "1. A - B\n",
            "2. B - D\n",
            "3. B - E\n",
            "4. E - F\n",
            "5. A - C\n"
          ]
        }
      ]
    },
    {
      "cell_type": "code",
      "source": [
        "# loop untuk urutan Depth First Search dengan depth 1\n",
        "print(\"Urutan node yang dikunjungi:\")\n",
        "i = 1\n",
        "for nodes in nx.dfs_edges(G, source='A', depth_limit=1):\n",
        " print(f\"{i}. {nodes[0]} - {nodes[1]}\")\n",
        " i += 1"
      ],
      "metadata": {
        "colab": {
          "base_uri": "https://localhost:8080/"
        },
        "id": "Ebh1MEYwCoWs",
        "outputId": "92c64d5d-461d-4b2f-ac3f-6f0271d1dc84"
      },
      "execution_count": null,
      "outputs": [
        {
          "output_type": "stream",
          "name": "stdout",
          "text": [
            "Urutan node yang dikunjungi:\n",
            "1. A - B\n",
            "2. A - C\n"
          ]
        }
      ]
    }
  ]
}