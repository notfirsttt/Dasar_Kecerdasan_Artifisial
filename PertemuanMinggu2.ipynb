{
  "cells": [
    {
      "cell_type": "markdown",
      "metadata": {
        "id": "view-in-github",
        "colab_type": "text"
      },
      "source": [
        "<a href=\"https://colab.research.google.com/github/notfirsttt/Dasar_Kecerdasan_Artifisial/blob/main/PertemuanMinggu2.ipynb\" target=\"_parent\"><img src=\"https://colab.research.google.com/assets/colab-badge.svg\" alt=\"Open In Colab\"/></a>"
      ]
    },
    {
      "cell_type": "markdown",
      "source": [
        "##Guided 1"
      ],
      "metadata": {
        "id": "5H3UMMtd7KYM"
      }
    },
    {
      "cell_type": "code",
      "source": [
        "import numpy as np\n",
        "x = np.array([4, 9, 2, 5])\n",
        "y = np.array([3, 5, 3, 2])\n",
        "\n",
        "k = np.concatenate((x, y))\n",
        "z = x + y\n",
        "\n",
        "print(k)\n",
        "print(z)\n",
        "print(z.tolist())"
      ],
      "metadata": {
        "colab": {
          "base_uri": "https://localhost:8080/"
        },
        "id": "yxe_CRnV7NmX",
        "outputId": "eb4221d8-da94-4b76-839c-b0c1c237e23d"
      },
      "execution_count": null,
      "outputs": [
        {
          "output_type": "stream",
          "name": "stdout",
          "text": [
            "[4 9 2 5 3 5 3 2]\n",
            "[ 7 14  5  7]\n",
            "[7, 14, 5, 7]\n"
          ]
        }
      ]
    },
    {
      "cell_type": "markdown",
      "source": [
        "##Guided 2\n"
      ],
      "metadata": {
        "id": "obFKsjfi76D9"
      }
    },
    {
      "cell_type": "code",
      "source": [
        "import numpy as np\n",
        "\n",
        "x = np.array([[5, 3, 2, 1], [6, 3, 2, 1]])\n",
        "print(\"Dimensi aray x: \", x.ndim)"
      ],
      "metadata": {
        "colab": {
          "base_uri": "https://localhost:8080/"
        },
        "id": "D8SpqNCL9GH3",
        "outputId": "4f5e8893-b64c-4814-9c3d-446134b18761"
      },
      "execution_count": null,
      "outputs": [
        {
          "output_type": "stream",
          "name": "stdout",
          "text": [
            "Dimensi aray x:  2\n"
          ]
        }
      ]
    },
    {
      "cell_type": "markdown",
      "source": [
        "##Guided3"
      ],
      "metadata": {
        "id": "ES6G3I5Y-Lmi"
      }
    },
    {
      "cell_type": "code",
      "source": [
        "import numpy as np\n",
        "\n",
        "x = np.array([[5, 3, 2, 1], [6, 3, 2, 1]])\n",
        "y = np.array([5.2, 3.3, 8.1])\n",
        "print(\"Shape x  : \", x.shape)\n",
        "print(\"Size x   : \", x.size)\n",
        "print(\"Shape y  : \", y.dtype)\n",
        "print(\"Size y   : \", y.dtype)\n"
      ],
      "metadata": {
        "colab": {
          "base_uri": "https://localhost:8080/"
        },
        "id": "dxtxjWAP-M9F",
        "outputId": "b1a1d44d-c59b-43ed-8402-2260158a324f"
      },
      "execution_count": null,
      "outputs": [
        {
          "output_type": "stream",
          "name": "stdout",
          "text": [
            "Shape x  :  (2, 4)\n",
            "Size x   :  8\n",
            "Shape y  :  float64\n",
            "Size y   :  float64\n"
          ]
        }
      ]
    },
    {
      "cell_type": "markdown",
      "source": [
        "##Guided 4"
      ],
      "metadata": {
        "id": "cMthlUcXAUyN"
      }
    },
    {
      "cell_type": "markdown",
      "source": [],
      "metadata": {
        "id": "scnHxpDgAWbR"
      }
    },
    {
      "cell_type": "code",
      "source": [
        "import numpy as np\n",
        "\n",
        "\n",
        "x = np.zeros((3,3))\n",
        "y = np.ones((2,3))\n",
        "z = np.empty((2,2))\n",
        "k = np.arange(0, 10, 2)\n",
        "l = np.linspace(0, 1, 0)\n",
        "\n",
        "\n",
        "print(\"Print x\" x)\n",
        "print(\"Print y\" y)\n",
        "print(\"Print z\" z)\n",
        "print(\"Print k\" k)\n",
        "print(\"Print x\" l)"
      ],
      "metadata": {
        "colab": {
          "base_uri": "https://localhost:8080/",
          "height": 108
        },
        "id": "g_T2OOoRAXYd",
        "outputId": "b6625380-c953-4f13-e5ab-1b12135961e5"
      },
      "execution_count": 1,
      "outputs": [
        {
          "output_type": "error",
          "ename": "SyntaxError",
          "evalue": "invalid syntax. Perhaps you forgot a comma? (<ipython-input-1-981982eda036>, line 11)",
          "traceback": [
            "\u001b[0;36m  File \u001b[0;32m\"<ipython-input-1-981982eda036>\"\u001b[0;36m, line \u001b[0;32m11\u001b[0m\n\u001b[0;31m    print(\"Print x\" x)\u001b[0m\n\u001b[0m          ^\u001b[0m\n\u001b[0;31mSyntaxError\u001b[0m\u001b[0;31m:\u001b[0m invalid syntax. Perhaps you forgot a comma?\n"
          ]
        }
      ]
    }
  ],
  "metadata": {
    "colab": {
      "toc_visible": true,
      "provenance": [],
      "include_colab_link": true
    },
    "kernelspec": {
      "display_name": "Python 3",
      "name": "python3"
    }
  },
  "nbformat": 4,
  "nbformat_minor": 0
}