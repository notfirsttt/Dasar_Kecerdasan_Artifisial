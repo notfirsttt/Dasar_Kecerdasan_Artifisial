{
  "cells": [
    {
      "cell_type": "markdown",
      "metadata": {
        "id": "view-in-github",
        "colab_type": "text"
      },
      "source": [
        "<a href=\"https://colab.research.google.com/github/notfirsttt/Dasar_Kecerdasan_Artifisial/blob/main/PertemuanMinggu2.ipynb\" target=\"_parent\"><img src=\"https://colab.research.google.com/assets/colab-badge.svg\" alt=\"Open In Colab\"/></a>"
      ]
    },
    {
      "cell_type": "markdown",
      "source": [
        "##Guided 1"
      ],
      "metadata": {
        "id": "5H3UMMtd7KYM"
      }
    },
    {
      "cell_type": "code",
      "source": [
        "import numpy as np\n",
        "x = np.array([4, 9, 2, 5])\n",
        "y = np.array([3, 5, 3, 2])\n",
        "\n",
        "k = np.concatenate((x, y))\n",
        "z = x + y\n",
        "\n",
        "print(k)\n",
        "print(z)\n",
        "print(z.tolist())"
      ],
      "metadata": {
        "colab": {
          "base_uri": "https://localhost:8080/"
        },
        "id": "yxe_CRnV7NmX",
        "outputId": "eb4221d8-da94-4b76-839c-b0c1c237e23d"
      },
      "execution_count": null,
      "outputs": [
        {
          "output_type": "stream",
          "name": "stdout",
          "text": [
            "[4 9 2 5 3 5 3 2]\n",
            "[ 7 14  5  7]\n",
            "[7, 14, 5, 7]\n"
          ]
        }
      ]
    },
    {
      "cell_type": "markdown",
      "source": [
        "Kode di atas make NumPy buat ngolah dua array 1D, yaitu x dan y. Pertama, x diisi dengan [4, 9, 2, 5] dan y diisi dengan [3, 5, 3, 2]. Terus, np.concatenate((x, y)) dipake buat ngegabungin kedua array tanpa operasi matematika, jadi hasilnya [4, 9, 2, 5, 3, 5, 3, 2]. Setelah itu, x + y ngejumlahin elemen yang ada di indeks yang sama, jadinya [7, 14, 5, 7]. Terakhir, z.tolist() ngeubah hasil penjumlahan dari array NumPy jadi list biasa di Python, dengan output yang sama, yaitu [7, 14, 5, 7]."
      ],
      "metadata": {
        "id": "rwwvzhQqQ_3R"
      }
    },
    {
      "cell_type": "markdown",
      "source": [
        "##Guided 2\n"
      ],
      "metadata": {
        "id": "obFKsjfi76D9"
      }
    },
    {
      "cell_type": "code",
      "source": [
        "import numpy as np\n",
        "\n",
        "x = np.array([[5, 3, 2, 1], [6, 3, 2, 1]])\n",
        "print(\"Dimensi aray x: \", x.ndim)"
      ],
      "metadata": {
        "colab": {
          "base_uri": "https://localhost:8080/"
        },
        "id": "D8SpqNCL9GH3",
        "outputId": "4f5e8893-b64c-4814-9c3d-446134b18761"
      },
      "execution_count": null,
      "outputs": [
        {
          "output_type": "stream",
          "name": "stdout",
          "text": [
            "Dimensi aray x:  2\n"
          ]
        }
      ]
    },
    {
      "cell_type": "markdown",
      "source": [
        "Kode di atas make NumPy buat bikin array 2D yang isinya dua baris, yaitu [5, 3, 2, 1] dan [6, 3, 2, 1]. Terus, fungsi ndim dipake buat ngecek jumlah dimensi dari array x. Karena x punya dua baris dan beberapa kolom, berarti array ini termasuk array 2D, jadi output dari x.ndim adalah 2. Fitur ini berguna banget buat ngecek struktur data sebelum ngelakuin operasi lebih lanjut, biar gak salah paham sama bentuk array yang diproses."
      ],
      "metadata": {
        "id": "wWUqThVSQ10j"
      }
    },
    {
      "cell_type": "markdown",
      "source": [
        "##Guided3"
      ],
      "metadata": {
        "id": "ES6G3I5Y-Lmi"
      }
    },
    {
      "cell_type": "code",
      "source": [
        "import numpy as np\n",
        "\n",
        "x = np.array([[5, 3, 2, 1], [6, 3, 2, 1]])\n",
        "y = np.array([5.2, 3.3, 8.1])\n",
        "print(\"Shape x  : \", x.shape)\n",
        "print(\"Size x   : \", x.size)\n",
        "print(\"Shape y  : \", y.dtype)\n",
        "print(\"Size y   : \", y.dtype)\n"
      ],
      "metadata": {
        "colab": {
          "base_uri": "https://localhost:8080/"
        },
        "id": "dxtxjWAP-M9F",
        "outputId": "b1a1d44d-c59b-43ed-8402-2260158a324f"
      },
      "execution_count": null,
      "outputs": [
        {
          "output_type": "stream",
          "name": "stdout",
          "text": [
            "Shape x  :  (2, 4)\n",
            "Size x   :  8\n",
            "Shape y  :  float64\n",
            "Size y   :  float64\n"
          ]
        }
      ]
    },
    {
      "cell_type": "markdown",
      "source": [
        "Kode di atas make NumPy buat bikin dua array, yaitu x yang berbentuk 2D dengan dua baris dan empat kolom, serta y yang berbentuk 1D dengan tiga elemen. Fungsi shape dipake buat ngecek ukuran atau dimensi array, jadi x.shape bakal ngeluarin (2, 4) yang nunjukin dua baris dan empat kolom. Terus, fungsi size dipake buat ngitung total elemen dalam array, jadi x.size bakal hasilin 8 karena ada delapan angka di dalamnya. Sedangkan untuk array y, fungsi dtype dipake buat ngecek tipe data elemen di dalamnya, yang dalam hal ini adalah float64, karena isinya angka desimal."
      ],
      "metadata": {
        "id": "qdoPrdm2Qomp"
      }
    },
    {
      "cell_type": "markdown",
      "source": [
        "##Guided 4"
      ],
      "metadata": {
        "id": "cMthlUcXAUyN"
      }
    },
    {
      "cell_type": "code",
      "source": [
        "import numpy as np\n",
        "\n",
        "\n",
        "x = np.zeros((3,3))\n",
        "y = np.ones((2,3))\n",
        "z = np.empty((2,2))\n",
        "k = np.arange(0, 10, 2)\n",
        "l = np.linspace(0, 1, 5)\n",
        "m = np.full((2, 2), 5)\n",
        "n = np.random.random((2, 3))\n",
        "o = np.random.randint(0, 50, size = (2,3))\n",
        "\n",
        "\n",
        "print(x)\n",
        "print(y)\n",
        "print(z)\n",
        "print(k)\n",
        "print(l)\n",
        "print(m)\n",
        "print(n)\n",
        "print(o)"
      ],
      "metadata": {
        "colab": {
          "base_uri": "https://localhost:8080/"
        },
        "id": "g_T2OOoRAXYd",
        "outputId": "ac564d9b-62fe-4506-ca6d-b7ab483af518"
      },
      "execution_count": null,
      "outputs": [
        {
          "output_type": "stream",
          "name": "stdout",
          "text": [
            "[[0. 0. 0.]\n",
            " [0. 0. 0.]\n",
            " [0. 0. 0.]]\n",
            "[[1. 1. 1.]\n",
            " [1. 1. 1.]]\n",
            "[[0.25 0.5 ]\n",
            " [0.75 1.  ]]\n",
            "[0 2 4 6 8]\n",
            "[0.   0.25 0.5  0.75 1.  ]\n",
            "[[5 5]\n",
            " [5 5]]\n",
            "[[0.77224051 0.96271273 0.00473575]\n",
            " [0.59235707 0.08086049 0.52890981]]\n",
            "[[24  6 25]\n",
            " [28 22 49]]\n"
          ]
        }
      ]
    },
    {
      "cell_type": "markdown",
      "source": [
        "Kode di atas make NumPy buat bikin berbagai jenis array dengan metode yang beda-beda. Pertama, np.zeros((3,3)) dipake buat bikin array 3x3 yang isinya semua nol. Terus, np.ones((2,3)) bikin array 2x3 yang semuanya berisi angka satu. np.empty((2,2)) bikin array 2x2 dengan nilai acak yang bisa berubah tergantung kondisi memori. np.arange(0, 10, 2) bikin array 1D dengan angka dari 0 sampai 10 tapi lompat 2, jadi hasilnya 0, 2, 4, 6, 8. np.linspace(0, 1, 5) bikin lima angka yang dibagi rata antara 0 sampai 1, hasilnya 0, 0.25, 0.5, 0.75, 1. np.full((2,2), 5) bikin array 2x2 yang semuanya angka 5. np.random.random((2,3)) bikin array 2x3 dengan angka random antara 0 sampai 1, sedangkan np.random.randint(0, 50, size=(2,3)) bikin array 2x3 dengan angka random dari 0 sampai 49. Semua hasilnya bakal ditampilin di output sesuai jenis array yang dibuat"
      ],
      "metadata": {
        "id": "rNd6J9_7RL4j"
      }
    },
    {
      "cell_type": "markdown",
      "source": [
        "##Guided 5"
      ],
      "metadata": {
        "id": "zBIPb14kF0Xt"
      }
    },
    {
      "cell_type": "code",
      "source": [
        "import numpy as np\n",
        "#append pada array 1D\n",
        "a = np.array([[1, 2, 3]])\n",
        "a = np.append(a, [4, 5])\n",
        "print(\"1D array setelah append:\\n\", a)\n",
        "#append pada array 2D\n",
        "x = np.array([[1, 2], [3, 4]])\n",
        "x = np.append(x, [4, 5, 6])\n",
        "print(\"2D array setelah append:\\n\", x)"
      ],
      "metadata": {
        "colab": {
          "base_uri": "https://localhost:8080/"
        },
        "id": "7ci-aBftF2pO",
        "outputId": "a06d7152-31c5-4a12-e427-e8fd6b35e889"
      },
      "execution_count": null,
      "outputs": [
        {
          "output_type": "stream",
          "name": "stdout",
          "text": [
            "1D array setelah append:\n",
            " [1 2 3 4 5]\n",
            "2D array setelah append:\n",
            " [1 2 3 4 4 5 6]\n"
          ]
        }
      ]
    },
    {
      "cell_type": "markdown",
      "source": [
        "Kode di atas make NumPy buat nambahin elemen ke array 1D dan 2D pake fungsi np.append. Pertama, array a yang awalnya [[1, 2, 3]] ditambahin elemen [4, 5], hasilnya jadi [1, 2, 3, 4, 5]. Fungsi np.append nambahin elemen di akhir array tanpa ngubah dimensi awalnya. Terus, array x yang awalnya [[1, 2], [3, 4]] ditambahin [4, 5, 6], tapi karena jumlah elemen yang ditambahin ga sesuai sama dimensi awal, hasilnya jadi array 1D [1, 2, 3, 4, 4, 5, 6]. Kalo mau tetap di bentuk 2D, sebaiknya nambahinnya dalam bentuk baris atau kolom yang sesuai dengan struktur array aslinya"
      ],
      "metadata": {
        "id": "0iBHHdfeRXHB"
      }
    },
    {
      "cell_type": "markdown",
      "source": [
        "##Guided 6"
      ],
      "metadata": {
        "id": "QrfLeR_wIaiJ"
      }
    },
    {
      "cell_type": "code",
      "source": [
        "import numpy as np\n",
        "\n",
        "# concatenate pada array 1D\n",
        "a = np.array([1, 2])\n",
        "b = np.array([3, 4])\n",
        "c = np.concatenate((a, b))\n",
        "print(\"1D array setelah concatenate:\\n\", c)\n",
        "# concatenate pada array 2D\n",
        "x = np.array([[1, 2], [3, 4]])\n",
        "y = np.array([[5, 6]])\n",
        "z = np.concatenate((x, y), axis=0)\n",
        "print(\"1D array setelah concatenate:\\n\", z)"
      ],
      "metadata": {
        "colab": {
          "base_uri": "https://localhost:8080/"
        },
        "id": "MtbJ-WzpIcQE",
        "outputId": "c722a174-ca5d-4938-c43e-9c2848eec1de"
      },
      "execution_count": null,
      "outputs": [
        {
          "output_type": "stream",
          "name": "stdout",
          "text": [
            "1D array setelah concatenate:\n",
            " [1 2 3 4]\n",
            "1D array setelah concatenate:\n",
            " [[1 2]\n",
            " [3 4]\n",
            " [5 6]]\n"
          ]
        }
      ]
    },
    {
      "cell_type": "markdown",
      "source": [
        "Kode di atas make NumPy buat ngegabungin dua array pake fungsi np.concatenate. Pertama, ada array a yang isinya [1, 2] dan b yang isinya [3, 4]. Pas digabungin pake np.concatenate((a, b)), hasilnya jadi [1, 2, 3, 4], yang berarti elemen dari b ditambahin langsung ke belakang a. Selanjutnya, ada array 2D x yang isinya [[1, 2], [3, 4]] dan y yang isinya [[5, 6]]. Pas digabungin pake np.concatenate((x, y), axis=0), hasilnya jadi [[1, 2], [3, 4], [5, 6]], yang artinya baris dari y ditambahin ke bawah x. Kalo mau gabungin berdasarkan kolom, tinggal ubah axis=1 supaya elemen dari y ditambahkan sebagai kolom tambahan di x"
      ],
      "metadata": {
        "id": "_AezkFZRRkbY"
      }
    },
    {
      "cell_type": "markdown",
      "source": [
        "##Guided 7"
      ],
      "metadata": {
        "id": "dOeiEz4SItlh"
      }
    },
    {
      "cell_type": "code",
      "source": [
        "import numpy as np\n",
        "\n",
        "# insert pada array 1D\n",
        "a = np.array([1, 2, 3])\n",
        "a = np.insert(a, 1, 4) # Insert '4' pada index 1\n",
        "print(\"1D array setelah insert:\\n\", a)\n",
        "# insert pada array 2D\n",
        "x = np.array([[1, 2], [3, 4]])\n",
        "x = np.insert(x, 0, [5, 6], axis=0) # Insert baris [5, 6] index 0\n",
        "print(\"2D array setelah insert:\\n\", x)"
      ],
      "metadata": {
        "colab": {
          "base_uri": "https://localhost:8080/"
        },
        "id": "7wNJ3Xs_Iv0V",
        "outputId": "6713f6f9-dc59-4a5b-dc20-9c6fe50fb5fe"
      },
      "execution_count": null,
      "outputs": [
        {
          "output_type": "stream",
          "name": "stdout",
          "text": [
            "1D array setelah insert:\n",
            " [1 4 2 3]\n",
            "2D array setelah insert:\n",
            " [[5 6]\n",
            " [1 2]\n",
            " [3 4]]\n"
          ]
        }
      ]
    },
    {
      "cell_type": "markdown",
      "source": [
        "Kode di atas make fungsi np.insert dari NumPy buat nyisipin elemen ke dalam array 1D dan 2D. Di bagian pertama, ada array 1D [1, 2, 3], terus elemen 4 dimasukin ke indeks 1, jadi hasil akhirnya berubah jadi [1, 4, 2, 3]. Fungsi np.insert(a, 1, 4) ini nggak ngeganti elemen yang udah ada, tapi langsung nyelipin angka 4 di posisi yang ditentuin.  \n",
        "Lanjut ke array 2D [[1, 2], [3, 4]], baris [5, 6] ditambahin di indeks 0 pake np.insert(x, 0, [5, 6], axis=0). Karena axis=0, elemen baru ini disisipin sebagai baris, jadi hasil akhirnya jadi [[5, 6], [1, 2], [3, 4]]. Secara umum, np.insert bisa dipake buat nyisipin elemen ke indeks tertentu dalam array, baik itu di baris maupun kolom, tergantung dari nilai axis-nya. Kalau axis=None, array bakal diratain dulu jadi satu dimensi sebelum elemen baru disisipin."
      ],
      "metadata": {
        "id": "EiK8ux3QOd2O"
      }
    },
    {
      "cell_type": "markdown",
      "source": [
        "##Guided 8"
      ],
      "metadata": {
        "id": "itV6f3-EI2ey"
      }
    },
    {
      "cell_type": "code",
      "source": [
        "import numpy as np\n",
        "\n",
        "x = np.array([[1, 2, 3], [4, 5, 6], [7, 8, 9]])\n",
        "x = np.delete(x, 1, axis=0)\n",
        "print(x)"
      ],
      "metadata": {
        "colab": {
          "base_uri": "https://localhost:8080/"
        },
        "id": "nV0hb0O8I4h0",
        "outputId": "8d5f94a9-b593-4ee6-8ee9-7febc3cfe896"
      },
      "execution_count": null,
      "outputs": [
        {
          "output_type": "stream",
          "name": "stdout",
          "text": [
            "[[1 2 3]\n",
            " [7 8 9]]\n"
          ]
        }
      ]
    },
    {
      "cell_type": "markdown",
      "source": [
        "Kode di atas make NumPy buat ngehapus baris di array 2D pake fungsi np.delete. Pertama, ada array x yang bentuknya matriks 3x3 dengan elemen [[1, 2, 3], [4, 5, 6], [7, 8, 9]]. Terus, np.delete(x, 1, axis=0) dipake buat ngapus baris dengan indeks 1, yaitu baris kedua [4, 5, 6]. Hasil akhirnya jadi [[1, 2, 3], [7, 8, 9]], di mana baris yang dihapus udah gak ada lagi di array"
      ],
      "metadata": {
        "id": "uOlmDYVRRvUo"
      }
    },
    {
      "cell_type": "markdown",
      "source": [
        "##Guided 9"
      ],
      "metadata": {
        "id": "szw1BqhyJavE"
      }
    },
    {
      "cell_type": "code",
      "source": [
        "import numpy as np\n",
        "\n",
        "x = np.array([4, 2, 7])\n",
        "y = np.sort(x)\n",
        "print(\"Array yang telah diurutkan:\", y)"
      ],
      "metadata": {
        "colab": {
          "base_uri": "https://localhost:8080/"
        },
        "id": "xPiUuK5UJcMJ",
        "outputId": "847d1df2-029a-45ed-d459-f70e71ab49e6"
      },
      "execution_count": null,
      "outputs": [
        {
          "output_type": "stream",
          "name": "stdout",
          "text": [
            "Array yang telah diurutkan: [2 4 7]\n"
          ]
        }
      ]
    },
    {
      "cell_type": "markdown",
      "source": [
        "Kode di atas make NumPy buat ngurutkan elemen dalam array 1D pake fungsi np.sort. Pertama, ada array x yang isinya [4, 2, 7]. Terus, np.sort(x) dipake buat ngurutkan elemen dalam urutan naik, jadi hasilnya [2, 4, 7]. Hasil urutan ini disimpen di variabel y, dan pas dicetak, bakal nampilin array yang udah terurut"
      ],
      "metadata": {
        "id": "3CFiigpPR6Iv"
      }
    },
    {
      "cell_type": "markdown",
      "source": [
        "##Guided 10"
      ],
      "metadata": {
        "id": "eIncow2jJvCa"
      }
    },
    {
      "cell_type": "code",
      "source": [
        "import numpy as np\n",
        "\n",
        "x = np.array([[3, 2, 4], [1, 4, 5]])\n",
        "y = np.sort(x, axis=0) # Mengurutkan sepanjang kolom\n",
        "print(\"Array yang telah diurutkan sepanjang kolom:\\n\", y)\n",
        "\n",
        "z = np.sort(x) # Mengurutkan sepanjang baris\n",
        "print(\"Array yang telah diurutkan sepanjang baris:\\n\", z)"
      ],
      "metadata": {
        "colab": {
          "base_uri": "https://localhost:8080/"
        },
        "id": "YcgQ2lddJw_P",
        "outputId": "27652025-f98f-47f2-a2ba-4992ffe9d4ec"
      },
      "execution_count": null,
      "outputs": [
        {
          "output_type": "stream",
          "name": "stdout",
          "text": [
            "Array yang telah diurutkan sepanjang kolom:\n",
            " [[1 2 4]\n",
            " [3 4 5]]\n",
            "Array yang telah diurutkan sepanjang baris:\n",
            " [[2 3 4]\n",
            " [1 4 5]]\n"
          ]
        }
      ]
    },
    {
      "cell_type": "markdown",
      "source": [
        "Kode di atas make NumPy buat ngurutkan elemen dalam array 2D baik berdasarkan kolom maupun baris. Pertama, ada array x dengan nilai [[3, 2, 4], [1, 4, 5]]. Terus, np.sort(x, axis=0) dipake buat ngurutkan elemen berdasarkan kolom, jadi hasilnya [[1, 2, 4], [3, 4, 5]], yang disimpen di variabel y. Selanjutnya, np.sort(x) atau np.sort(x, axis=1) dipake buat ngurutkan elemen berdasarkan baris, jadi tiap barisnya bakal diurutkan sendiri, hasilnya [[2, 3, 4], [1, 4, 5]], yang disimpen di variabel z. Kedua hasil sorting ini kemudian dicetak"
      ],
      "metadata": {
        "id": "-ffLm8dbSDHh"
      }
    },
    {
      "cell_type": "markdown",
      "source": [
        "##Guided 11"
      ],
      "metadata": {
        "id": "-l99ITsqKGii"
      }
    },
    {
      "cell_type": "code",
      "source": [
        "import numpy as np\n",
        "\n",
        "x = np.array([20, 80, 10, 50, 30])\n",
        "subset = x[1:4]\n",
        "\n",
        "#indexing\n",
        "print(x[2])\n",
        "\n",
        "print(subset)"
      ],
      "metadata": {
        "colab": {
          "base_uri": "https://localhost:8080/"
        },
        "id": "56j300tMKNnh",
        "outputId": "59a33d5d-cd91-47ba-cd91-b13422cc893c"
      },
      "execution_count": null,
      "outputs": [
        {
          "output_type": "stream",
          "name": "stdout",
          "text": [
            "10\n",
            "[80 10 50]\n"
          ]
        }
      ]
    },
    {
      "cell_type": "markdown",
      "source": [
        "Kode di atas make NumPy buat ngeakses elemen dalam array pakai indexing dan slicing. Array x diinisialisasi dengan nilai [20, 80, 10, 50, 30]. Terus, subset = x[1:4] dipake buat nyimpen elemen dari indeks 1 sampai 3, hasilnya [80, 10, 50]. Buat indexing langsung, x[2] ngeambil elemen di indeks ke-2, yaitu 10. Terakhir, hasil indexing dan subset dicetak."
      ],
      "metadata": {
        "id": "OJexCRD0SKd2"
      }
    },
    {
      "cell_type": "markdown",
      "source": [
        "##Guided 12"
      ],
      "metadata": {
        "id": "WTWj-N71KJGg"
      }
    },
    {
      "cell_type": "code",
      "source": [
        "import numpy as np\n",
        "\n",
        "x = np.array([3, 2, 6, 5])\n",
        "# Membuat shallow copy menggunakan view()\n",
        "y = x.view()\n",
        "# Mengubah elemen pertama dari shallow copy\n",
        "y[0] = 99\n",
        "print(\"Array asli:\", x)\n",
        "print(\"Shallow copy:\", y)"
      ],
      "metadata": {
        "colab": {
          "base_uri": "https://localhost:8080/"
        },
        "id": "8VP5IMOjKfWt",
        "outputId": "d3329005-d813-4df1-8218-26e7f1181efc"
      },
      "execution_count": null,
      "outputs": [
        {
          "output_type": "stream",
          "name": "stdout",
          "text": [
            "Array asli: [99  2  6  5]\n",
            "Shallow copy: [99  2  6  5]\n"
          ]
        }
      ]
    },
    {
      "cell_type": "markdown",
      "source": [
        "Kode di atas make NumPy buat bikin shallow copy dari array pakai fungsi view(). Awalnya, array x diinisialisasi dengan nilai [3, 2, 6, 5]. Terus, y = x.view() dipake buat bikin shallow copy, yang artinya y bakal nge-reference data yang sama dengan x tanpa ngegandain memori. Pas elemen pertama di y diubah jadi 99, perubahan ini juga ngaruh ke x karena keduanya masih terhubung ke data yang sama. Hasil akhirnya, array asli x berubah jadi [99, 2, 6, 5], dan shallow copy y juga berisi [99, 2, 6, 5]."
      ],
      "metadata": {
        "id": "lwGyf3JbSSbE"
      }
    },
    {
      "cell_type": "markdown",
      "source": [
        "##Guided 13"
      ],
      "metadata": {
        "id": "bQSGptv5KK5S"
      }
    },
    {
      "cell_type": "code",
      "source": [
        "import numpy as np\n",
        "\n",
        "x = np.array([3, 2, 6, 5])\n",
        "\n",
        "y = x.copy()\n",
        "y[0] = 99\n",
        "\n",
        "print(\"Array asli:\", x)\n",
        "print(\"Deep copy:\", y)"
      ],
      "metadata": {
        "colab": {
          "base_uri": "https://localhost:8080/"
        },
        "id": "UNeC9NabKhgs",
        "outputId": "2dd9f482-1e8e-47d2-af7f-af20f3f5df2e"
      },
      "execution_count": null,
      "outputs": [
        {
          "output_type": "stream",
          "name": "stdout",
          "text": [
            "Array asli: [3 2 6 5]\n",
            "Deep copy: [99  2  6  5]\n"
          ]
        }
      ]
    },
    {
      "cell_type": "markdown",
      "source": [
        "Kode di atas make NumPy buat bikin deep copy dari array pakai fungsi copy(). Awalnya, array x diinisialisasi dengan nilai [3, 2, 6, 5]. Terus, y = x.copy() dipake buat bikin deep copy, yang artinya y bakal jadi duplikasi penuh dari x tanpa berbagi memori. Pas elemen pertama di y diubah jadi 99, perubahan ini gak ngaruh ke x karena mereka udah terpisah. Hasil akhirnya, array asli x tetap [3, 2, 6, 5], sementara deep copy y berubah jadi [99, 2, 6, 5]."
      ],
      "metadata": {
        "id": "zObV4MzQSZk1"
      }
    },
    {
      "cell_type": "markdown",
      "source": [
        "##Guided 14"
      ],
      "metadata": {
        "id": "IJfSnALPMXAE"
      }
    },
    {
      "cell_type": "code",
      "source": [
        "import numpy as np\n",
        "\n",
        "x = np.array ([7, 2, 9, 3])\n",
        "\n",
        "#Nilai Maksimal\n",
        "max_value = np.max(x)\n",
        "print(\"Nilai maks : \", max_value)\n",
        "\n",
        "#Nilai Minimum\n",
        "min_value = np.min(x)\n",
        "print(\"Nilai min : \", min_value)\n",
        "\n",
        "#Penjumlahan\n",
        "sum_value = np.sum(x)\n",
        "print(\"Jumlah : \", sum_value)\n",
        "\n",
        "#Rata-rata\n",
        "mean_value = np.mean(x)\n",
        "print(\"Rata-rata : \", mean_value)"
      ],
      "metadata": {
        "colab": {
          "base_uri": "https://localhost:8080/"
        },
        "id": "VBm8f_8FM0k1",
        "outputId": "00fe7f6e-a2d8-455c-82db-9c2b500a6356"
      },
      "execution_count": null,
      "outputs": [
        {
          "output_type": "stream",
          "name": "stdout",
          "text": [
            "Nilai maks :  9\n",
            "Nilai min :  2\n",
            "Jumlah :  21\n",
            "Rata-rata :  5.25\n"
          ]
        }
      ]
    },
    {
      "cell_type": "markdown",
      "source": [
        "Kode di atas make NumPy buat ngolah array x yang berisi [7, 2, 9, 3]. Pertama, np.max(x) dipake buat nyari nilai maksimal dalam array, hasilnya 9. Terus, np.min(x) dipake buat nyari nilai minimum, hasilnya 2. Setelah itu, np.sum(x) ngejumlahin semua elemen dalam array, hasilnya 21. Terakhir, np.mean(x) dipake buat ngitung rata-rata elemen dalam array, hasilnya 5.25."
      ],
      "metadata": {
        "id": "-3XH6eGoSiHQ"
      }
    },
    {
      "cell_type": "markdown",
      "source": [
        "##Unguided 1"
      ],
      "metadata": {
        "id": "perrNTTPO_d7"
      }
    },
    {
      "cell_type": "code",
      "source": [
        "import numpy as np\n",
        "\n",
        "def tambah_mahasiswa(mahasiswa):\n",
        "    nama = input(\"Masukkan Nama: \")\n",
        "    nim = input(\"Masukkan NIM: \")\n",
        "    nilai = float(input(\"Masukkan Nilai: \"))\n",
        "    tahun_masuk = int(input(\"Masukkan Tahun Masuk: \"))\n",
        "    mahasiswa.append([nama, nim, nilai, tahun_masuk])\n",
        "\n",
        "def tampilkan_mahasiswa(mahasiswa):\n",
        "    print(\"\\nData Mahasiswa:\")\n",
        "    print(\"Nama\\tNIM\\tNilai\\tTahun Masuk\")\n",
        "    for mhs in mahasiswa:\n",
        "        print(f\"{mhs[0]}\\t{mhs[1]}\\t{mhs[2]}\\t{mhs[3]}\")\n",
        "\n",
        "def statistik_nilai(mahasiswa):\n",
        "    nilai_list = np.array([mhs[2] for mhs in mahasiswa])\n",
        "    print(\"\\nStatistik Nilai:\")\n",
        "    print(f\"Nilai Tertinggi: {np.max(nilai_list)}\")\n",
        "    print(f\"Nilai Terendah: {np.min(nilai_list)}\")\n",
        "    print(f\"Nilai Rata-rata: {np.mean(nilai_list)}\")\n",
        "\n",
        "def cari_mahasiswa(mahasiswa, key):\n",
        "    print(\"\\nHasil Pencarian:\")\n",
        "    found = False\n",
        "    for mhs in mahasiswa:\n",
        "        if key.lower() in mhs[0].lower() or key == mhs[1]:\n",
        "            print(f\"Nama: {mhs[0]}, NIM: {mhs[1]}, Nilai: {mhs[2]}, Tahun Masuk: {mhs[3]}\")\n",
        "            found = True\n",
        "    if not found:\n",
        "        print(\"Mahasiswa tidak ditemukan.\")\n",
        "\n",
        "def main():\n",
        "    mahasiswa = []\n",
        "    while True:\n",
        "        print(\"\\nMenu:\")\n",
        "        print(\"1. Tambah Mahasiswa\")\n",
        "        print(\"2. Tampilkan Mahasiswa\")\n",
        "        print(\"3. Statistik Nilai\")\n",
        "        print(\"4. Cari Mahasiswa\")\n",
        "        print(\"5. Keluar\")\n",
        "\n",
        "        pilihan = input(\"Pilih menu: \")\n",
        "\n",
        "        if pilihan == \"1\":\n",
        "            tambah_mahasiswa(mahasiswa)\n",
        "        elif pilihan == \"2\":\n",
        "            tampilkan_mahasiswa(mahasiswa)\n",
        "        elif pilihan == \"3\":\n",
        "            if mahasiswa:\n",
        "                statistik_nilai(mahasiswa)\n",
        "            else:\n",
        "                print(\"Belum ada data mahasiswa.\")\n",
        "        elif pilihan == \"4\":\n",
        "            key = input(\"Masukkan Nama atau NIM: \")\n",
        "            cari_mahasiswa(mahasiswa, key)\n",
        "        elif pilihan == \"5\":\n",
        "            print(\"Program selesai.\")\n",
        "            break\n",
        "        else:\n",
        "            print(\"Pilihan tidak valid. Silakan coba lagi.\")\n",
        "\n",
        "if __name__ == \"__main__\":\n",
        "    main()\n"
      ],
      "metadata": {
        "id": "OmqHqOfXqvjm",
        "colab": {
          "base_uri": "https://localhost:8080/"
        },
        "outputId": "216fcf2a-4b22-488e-ca03-a3025612ca6e"
      },
      "execution_count": null,
      "outputs": [
        {
          "output_type": "stream",
          "name": "stdout",
          "text": [
            "\n",
            "Menu:\n",
            "1. Tambah Mahasiswa\n",
            "2. Tampilkan Mahasiswa\n",
            "3. Statistik Nilai\n",
            "4. Cari Mahasiswa\n",
            "5. Keluar\n",
            "Pilih menu: 1\n",
            "Masukkan Nama: Rizklloh\n",
            "Masukkan NIM: 2311\n",
            "Masukkan Nilai: 100\n",
            "Masukkan Tahun Masuk: 2023\n",
            "\n",
            "Menu:\n",
            "1. Tambah Mahasiswa\n",
            "2. Tampilkan Mahasiswa\n",
            "3. Statistik Nilai\n",
            "4. Cari Mahasiswa\n",
            "5. Keluar\n",
            "Pilih menu: 1\n",
            "Masukkan Nama: Alfi\n",
            "Masukkan NIM: 2312\n",
            "Masukkan Nilai: 95\n",
            "Masukkan Tahun Masuk: 2023\n",
            "\n",
            "Menu:\n",
            "1. Tambah Mahasiswa\n",
            "2. Tampilkan Mahasiswa\n",
            "3. Statistik Nilai\n",
            "4. Cari Mahasiswa\n",
            "5. Keluar\n",
            "Pilih menu: 2\n",
            "\n",
            "Data Mahasiswa:\n",
            "Nama\tNIM\tNilai\tTahun Masuk\n",
            "Rizklloh\t2311\t100.0\t2023\n",
            "Alfi\t2312\t95.0\t2023\n",
            "\n",
            "Menu:\n",
            "1. Tambah Mahasiswa\n",
            "2. Tampilkan Mahasiswa\n",
            "3. Statistik Nilai\n",
            "4. Cari Mahasiswa\n",
            "5. Keluar\n",
            "Pilih menu: 3\n",
            "\n",
            "Statistik Nilai:\n",
            "Nilai Tertinggi: 100.0\n",
            "Nilai Terendah: 95.0\n",
            "Nilai Rata-rata: 97.5\n",
            "\n",
            "Menu:\n",
            "1. Tambah Mahasiswa\n",
            "2. Tampilkan Mahasiswa\n",
            "3. Statistik Nilai\n",
            "4. Cari Mahasiswa\n",
            "5. Keluar\n",
            "Pilih menu: 4\n",
            "Masukkan Nama atau NIM: 2312\n",
            "\n",
            "Hasil Pencarian:\n",
            "Nama: Alfi, NIM: 2312, Nilai: 95.0, Tahun Masuk: 2023\n",
            "\n",
            "Menu:\n",
            "1. Tambah Mahasiswa\n",
            "2. Tampilkan Mahasiswa\n",
            "3. Statistik Nilai\n",
            "4. Cari Mahasiswa\n",
            "5. Keluar\n",
            "Pilih menu: 5\n",
            "Program selesai.\n"
          ]
        }
      ]
    },
    {
      "cell_type": "markdown",
      "source": [
        "Program ini merupakan aplikasi berbasis Python untuk mengelola data mahasiswa dengan fitur interaktif melalui menu pilihan. Data mahasiswa disimpan dalam bentuk list yang berisi informasi **Nama, NIM, Nilai, dan Tahun Masuk**. Pengguna dapat menambahkan mahasiswa dengan memasukkan data melalui input, menampilkan daftar mahasiswa yang sudah tersimpan, serta melakukan pencarian berdasarkan Nama atau NIM. Selain itu, program ini juga menyediakan fitur statistik nilai menggunakan **NumPy**, yang mencakup perhitungan nilai tertinggi, terendah, dan rata-rata. Semua fitur ini dikemas dalam menu interaktif yang berjalan dalam loop hingga pengguna memilih untuk keluar. Dengan struktur yang sederhana dan mudah digunakan, program ini dapat membantu dalam pengelolaan data mahasiswa secara efisien."
      ],
      "metadata": {
        "id": "4nVCV51R9nGm"
      }
    },
    {
      "cell_type": "markdown",
      "source": [
        "##Ungided 2\n"
      ],
      "metadata": {
        "id": "KhrQBAEm2XiF"
      }
    },
    {
      "cell_type": "code",
      "source": [
        "import numpy as np\n",
        "\n",
        "# Struktur data untuk menyimpan inventaris\n",
        "inventory = np.array([], dtype=[('NamaBarang', 'U50'), ('KodeBarang', 'U20'), ('Jumlah', 'i4'), ('HargaPerUnit', 'f4')])\n",
        "\n",
        "def tambah_barang():\n",
        "    global inventory\n",
        "    nama = input(\"Masukkan Nama Barang: \")\n",
        "    kode = input(\"Masukkan Kode Barang: \")\n",
        "    jumlah = int(input(\"Masukkan Jumlah Barang: \"))\n",
        "    harga = float(input(\"Masukkan Harga Per Unit: \"))\n",
        "\n",
        "    barang_baru = np.array([(nama, kode, jumlah, harga)], dtype=inventory.dtype)\n",
        "    inventory = np.append(inventory, barang_baru)\n",
        "    print(\"Barang berhasil ditambahkan.\\n\")\n",
        "\n",
        "def tampilkan_inventaris():\n",
        "    if inventory.size == 0:\n",
        "        print(\"Inventaris kosong.\\n\")\n",
        "        return\n",
        "\n",
        "    print(\"Inventaris Gudang:\")\n",
        "    print(\"=\"*70)\n",
        "    print(f\"{'Nama Barang':<20}{'Kode Barang':<15}{'Jumlah':<10}{'Harga Per Unit':<15}{'Total Nilai':<15}\")\n",
        "    print(\"=\"*70)\n",
        "    total_inventaris = 0\n",
        "    for barang in inventory:\n",
        "        total_nilai = barang['Jumlah'] * barang['HargaPerUnit']\n",
        "        total_inventaris += total_nilai\n",
        "        print(f\"{barang['NamaBarang']:<20}{barang['KodeBarang']:<15}{barang['Jumlah']:<10}{barang['HargaPerUnit']:<15}{total_nilai:<15}\")\n",
        "    print(\"=\"*70)\n",
        "    print(f\"Total Nilai Inventaris: {total_inventaris:.2f}\\n\")\n",
        "\n",
        "def cari_barang():\n",
        "    if inventory.size == 0:\n",
        "        print(\"Inventaris kosong. Tidak ada barang untuk dicari.\\n\")\n",
        "        return\n",
        "\n",
        "    keyword = input(\"Masukkan Kode Barang atau Nama Barang yang dicari: \").lower()\n",
        "    hasil = [barang for barang in inventory if keyword in barang['KodeBarang'].lower() or keyword in barang['NamaBarang'].lower()]\n",
        "\n",
        "    if hasil:\n",
        "        print(\"Barang ditemukan:\")\n",
        "        print(\"=\"*70)\n",
        "        print(f\"{'Nama Barang':<20}{'Kode Barang':<15}{'Jumlah':<10}{'Harga Per Unit':<15}{'Total Nilai':<15}\")\n",
        "        print(\"=\"*70)\n",
        "        for barang in hasil:\n",
        "            total_nilai = barang['Jumlah'] * barang['HargaPerUnit']\n",
        "            print(f\"{barang['NamaBarang']:<20}{barang['KodeBarang']:<15}{barang['Jumlah']:<10}{barang['HargaPerUnit']:<15}{total_nilai:<15}\")\n",
        "        print(\"=\"*70 + \"\\n\")\n",
        "    else:\n",
        "        print(\"Barang tidak ditemukan.\\n\")\n",
        "\n",
        "def menu():\n",
        "    while True:\n",
        "        print(\"Menu:\")\n",
        "        print(\"1. Tambah Barang\")\n",
        "        print(\"2. Tampilkan Inventaris\")\n",
        "        print(\"3. Cari Barang\")\n",
        "        print(\"4. Keluar\")\n",
        "        pilihan = input(\"Pilih menu (1-4): \")\n",
        "\n",
        "        if pilihan == '1':\n",
        "            tambah_barang()\n",
        "        elif pilihan == '2':\n",
        "            tampilkan_inventaris()\n",
        "        elif pilihan == '3':\n",
        "            cari_barang()\n",
        "        elif pilihan == '4':\n",
        "            print(\"Keluar dari program.\")\n",
        "            break\n",
        "        else:\n",
        "            print(\"Pilihan tidak valid. Silakan coba lagi.\\n\")\n",
        "\n",
        "# Menjalankan program\n",
        "if __name__ == \"__main__\":\n",
        "    menu()"
      ],
      "metadata": {
        "colab": {
          "base_uri": "https://localhost:8080/"
        },
        "id": "AhZf67Hw2b03",
        "outputId": "88300b84-ac61-4d23-f26d-581ac2082ab9"
      },
      "execution_count": null,
      "outputs": [
        {
          "output_type": "stream",
          "name": "stdout",
          "text": [
            "Menu:\n",
            "1. Tambah Barang\n",
            "2. Tampilkan Inventaris\n",
            "3. Cari Barang\n",
            "4. Keluar\n",
            "Pilih menu (1-4): 1\n",
            "Masukkan Nama Barang: Gelas\n",
            "Masukkan Kode Barang: G001\n",
            "Masukkan Jumlah Barang: 10\n",
            "Masukkan Harga Per Unit: 10000\n",
            "Barang berhasil ditambahkan.\n",
            "\n",
            "Menu:\n",
            "1. Tambah Barang\n",
            "2. Tampilkan Inventaris\n",
            "3. Cari Barang\n",
            "4. Keluar\n",
            "Pilih menu (1-4): 1\n",
            "Masukkan Nama Barang: Sendok\n",
            "Masukkan Kode Barang: S001\n",
            "Masukkan Jumlah Barang: 5\n",
            "Masukkan Harga Per Unit: 5000\n",
            "Barang berhasil ditambahkan.\n",
            "\n",
            "Menu:\n",
            "1. Tambah Barang\n",
            "2. Tampilkan Inventaris\n",
            "3. Cari Barang\n",
            "4. Keluar\n",
            "Pilih menu (1-4): 2\n",
            "Inventaris Gudang:\n",
            "======================================================================\n",
            "Nama Barang         Kode Barang    Jumlah    Harga Per Unit Total Nilai    \n",
            "======================================================================\n",
            "Gelas               G001           10        10000.0        100000.0       \n",
            "Sendok              S001           5         5000.0         25000.0        \n",
            "======================================================================\n",
            "Total Nilai Inventaris: 125000.00\n",
            "\n",
            "Menu:\n",
            "1. Tambah Barang\n",
            "2. Tampilkan Inventaris\n",
            "3. Cari Barang\n",
            "4. Keluar\n",
            "Pilih menu (1-4): 3\n",
            "Masukkan Kode Barang atau Nama Barang yang dicari: Gelas\n",
            "Barang ditemukan:\n",
            "======================================================================\n",
            "Nama Barang         Kode Barang    Jumlah    Harga Per Unit Total Nilai    \n",
            "======================================================================\n",
            "Gelas               G001           10        10000.0        100000.0       \n",
            "======================================================================\n",
            "\n",
            "Menu:\n",
            "1. Tambah Barang\n",
            "2. Tampilkan Inventaris\n",
            "3. Cari Barang\n",
            "4. Keluar\n",
            "Pilih menu (1-4): 3\n",
            "Masukkan Kode Barang atau Nama Barang yang dicari: S001\n",
            "Barang ditemukan:\n",
            "======================================================================\n",
            "Nama Barang         Kode Barang    Jumlah    Harga Per Unit Total Nilai    \n",
            "======================================================================\n",
            "Sendok              S001           5         5000.0         25000.0        \n",
            "======================================================================\n",
            "\n",
            "Menu:\n",
            "1. Tambah Barang\n",
            "2. Tampilkan Inventaris\n",
            "3. Cari Barang\n",
            "4. Keluar\n",
            "Pilih menu (1-4): 4\n",
            "Keluar dari program.\n"
          ]
        }
      ]
    },
    {
      "cell_type": "markdown",
      "source": [
        "Kode di atas adalah program Python untuk mengelola data inventaris gudang menggunakan library numpy. Data barang yang disimpan mencakup NamaBarang, KodeBarang, Jumlah, dan HargaPerUnit, yang disimpan dalam array numpy dengan tipe data khusus. Program ini memiliki beberapa fungsi utama yaitu tambah_barang untuk menambahkan barang baru ke dalam inventaris dengan input dari pengguna, tampilkan_inventaris untuk menampilkan seluruh data barang yang telah dimasukkan beserta total nilai inventaris yang dihitung sebagai Jumlah dikali HargaPerUnit, dan cari_barang yang memungkinkan pencarian barang berdasarkan KodeBarang atau NamaBarang dengan metode pencocokan string. Program dijalankan dalam fungsi menu yang menampilkan opsi interaktif kepada pengguna untuk menambah barang, melihat inventaris, mencari barang, atau keluar dari program. Agar tampilan lebih rapi, format angka dalam harga dan total nilai dapat dikonversi menjadi bilangan bulat jika tidak memerlukan angka desimal. Program ini memanfaatkan numpy.append untuk menambahkan data ke array numpy, serta iterasi for loop untuk menampilkan dan menghitung total nilai inventaris dengan format tabel agar lebih mudah dibaca.\n",
        "\n",
        "\n"
      ],
      "metadata": {
        "id": "eer79yIY8wh4"
      }
    }
  ],
  "metadata": {
    "colab": {
      "provenance": [],
      "include_colab_link": true
    },
    "kernelspec": {
      "display_name": "Python 3",
      "name": "python3"
    }
  },
  "nbformat": 4,
  "nbformat_minor": 0
}